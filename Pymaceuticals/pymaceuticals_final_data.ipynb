{
 "cells": [
  {
   "cell_type": "markdown",
   "metadata": {},
   "source": [
    "# Pymaceuticals Inc.\n",
    "---\n",
    "\n",
    "### Analysis\n",
    "\n",
    "- Removing duplicates ID the total number of mice is 248. We can also see that 49% are female and 51% are male\n",
    "- We can see that the correlation between mouse weight, and average tumor volume is 0.84. \n",
    "- When looking for outliers in the top 4 treatments, Infubinol was the only regimen that shows one.\n",
    "- Beased in the data results it shows that Ramicane and Capomulin are the most effective treatments. "
   ]
  },
  {
   "cell_type": "code",
   "execution_count": 1,
   "metadata": {},
   "outputs": [
    {
     "data": {
      "text/html": [
       "<div>\n",
       "<style scoped>\n",
       "    .dataframe tbody tr th:only-of-type {\n",
       "        vertical-align: middle;\n",
       "    }\n",
       "\n",
       "    .dataframe tbody tr th {\n",
       "        vertical-align: top;\n",
       "    }\n",
       "\n",
       "    .dataframe thead th {\n",
       "        text-align: right;\n",
       "    }\n",
       "</style>\n",
       "<table border=\"1\" class=\"dataframe\">\n",
       "  <thead>\n",
       "    <tr style=\"text-align: right;\">\n",
       "      <th></th>\n",
       "      <th>Mouse ID</th>\n",
       "      <th>Timepoint</th>\n",
       "      <th>Tumor Volume (mm3)</th>\n",
       "      <th>Metastatic Sites</th>\n",
       "      <th>Drug Regimen</th>\n",
       "      <th>Sex</th>\n",
       "      <th>Age_months</th>\n",
       "      <th>Weight (g)</th>\n",
       "    </tr>\n",
       "  </thead>\n",
       "  <tbody>\n",
       "    <tr>\n",
       "      <th>0</th>\n",
       "      <td>b128</td>\n",
       "      <td>0</td>\n",
       "      <td>45.0</td>\n",
       "      <td>0</td>\n",
       "      <td>Capomulin</td>\n",
       "      <td>Female</td>\n",
       "      <td>9</td>\n",
       "      <td>22</td>\n",
       "    </tr>\n",
       "    <tr>\n",
       "      <th>1</th>\n",
       "      <td>f932</td>\n",
       "      <td>0</td>\n",
       "      <td>45.0</td>\n",
       "      <td>0</td>\n",
       "      <td>Ketapril</td>\n",
       "      <td>Male</td>\n",
       "      <td>15</td>\n",
       "      <td>29</td>\n",
       "    </tr>\n",
       "    <tr>\n",
       "      <th>2</th>\n",
       "      <td>g107</td>\n",
       "      <td>0</td>\n",
       "      <td>45.0</td>\n",
       "      <td>0</td>\n",
       "      <td>Ketapril</td>\n",
       "      <td>Female</td>\n",
       "      <td>2</td>\n",
       "      <td>29</td>\n",
       "    </tr>\n",
       "    <tr>\n",
       "      <th>3</th>\n",
       "      <td>a457</td>\n",
       "      <td>0</td>\n",
       "      <td>45.0</td>\n",
       "      <td>0</td>\n",
       "      <td>Ketapril</td>\n",
       "      <td>Female</td>\n",
       "      <td>11</td>\n",
       "      <td>30</td>\n",
       "    </tr>\n",
       "    <tr>\n",
       "      <th>4</th>\n",
       "      <td>c819</td>\n",
       "      <td>0</td>\n",
       "      <td>45.0</td>\n",
       "      <td>0</td>\n",
       "      <td>Ketapril</td>\n",
       "      <td>Male</td>\n",
       "      <td>21</td>\n",
       "      <td>25</td>\n",
       "    </tr>\n",
       "  </tbody>\n",
       "</table>\n",
       "</div>"
      ],
      "text/plain": [
       "  Mouse ID  Timepoint  Tumor Volume (mm3)  Metastatic Sites Drug Regimen  \\\n",
       "0     b128          0                45.0                 0    Capomulin   \n",
       "1     f932          0                45.0                 0     Ketapril   \n",
       "2     g107          0                45.0                 0     Ketapril   \n",
       "3     a457          0                45.0                 0     Ketapril   \n",
       "4     c819          0                45.0                 0     Ketapril   \n",
       "\n",
       "      Sex  Age_months  Weight (g)  \n",
       "0  Female           9          22  \n",
       "1    Male          15          29  \n",
       "2  Female           2          29  \n",
       "3  Female          11          30  \n",
       "4    Male          21          25  "
      ]
     },
     "execution_count": 1,
     "metadata": {},
     "output_type": "execute_result"
    }
   ],
   "source": [
    "# Dependencies and Setup\n",
    "import matplotlib.pyplot as plt\n",
    "import pandas as pd\n",
    "import scipy.stats as st\n",
    "import numpy as np\n",
    "from scipy.stats import linregress\n",
    "\n",
    "# Study data files\n",
    "mouse_metadata_path = \"data/Mouse_metadata.csv\"\n",
    "study_results_path = \"data/Study_results.csv\"\n",
    "\n",
    "# Read the mouse data and the study results\n",
    "mouse_metadata = pd.read_csv(mouse_metadata_path)\n",
    "study_results = pd.read_csv(study_results_path)\n",
    "\n",
    "# Combine the data into a single dataset\n",
    "combined_data=pd.merge(study_results,mouse_metadata,on=\"Mouse ID\",how=\"left\")\n",
    "\n",
    "# Display the data table for preview\n",
    "combined_data.head()\n"
   ]
  },
  {
   "cell_type": "code",
   "execution_count": null,
   "metadata": {},
   "outputs": [],
   "source": [
    "# Checking the number of mice.\n",
    "mouse_metadata[\"Mouse ID\"].count()"
   ]
  },
  {
   "cell_type": "code",
   "execution_count": null,
   "metadata": {},
   "outputs": [],
   "source": [
    "# Getting the duplicate mice by ID number that shows up for Mouse ID and Timepoint. \n",
    "for i,x in enumerate(combined_data.duplicated(subset=['Mouse ID',\"Timepoint\"])):\n",
    "    if x==True:\n",
    "        print(combined_data.iloc[i,0:2])"
   ]
  },
  {
   "cell_type": "code",
   "execution_count": null,
   "metadata": {},
   "outputs": [],
   "source": [
    "# Optional: Get all the data for the duplicate mouse ID. \n",
    "combined_data.loc[combined_data[\"Mouse ID\"]==\"g989\",:]"
   ]
  },
  {
   "cell_type": "code",
   "execution_count": null,
   "metadata": {},
   "outputs": [],
   "source": [
    "# Create a clean DataFrame by dropping the duplicate mouse by its ID.\n",
    "combined_data_clean=combined_data[combined_data[\"Mouse ID\"] != 'g989']\n",
    "mouse_metadata_clean=mouse_metadata[mouse_metadata[\"Mouse ID\"] != 'g989']"
   ]
  },
  {
   "cell_type": "code",
   "execution_count": null,
   "metadata": {},
   "outputs": [],
   "source": [
    "# Checking the number of mice in the clean DataFrame.\n",
    "clean_mice_data=combined_data_clean[\"Mouse ID\"].value_counts()\n",
    "clean_number_of_mice=len(mouse_metadata_clean)\n",
    "clean_number_of_mice"
   ]
  },
  {
   "cell_type": "markdown",
   "metadata": {},
   "source": [
    "## Summary Statistics"
   ]
  },
  {
   "cell_type": "code",
   "execution_count": null,
   "metadata": {},
   "outputs": [],
   "source": [
    "# Generate a summary statistics table of mean, median, variance, standard deviation, and SEM of the tumor volume for each regimen\n",
    "Summary_Grp=combined_data_clean.groupby([\"Drug Regimen\"])\n",
    "# Use groupby and summary statistical methods to calculate the following properties of each drug regimen: \n",
    "# mean, median, variance, standard deviation, and SEM of the tumor volume. \n",
    "# Assemble the resulting series into a single summary DataFrame.\n",
    "Summary=Summary_Grp[\"Tumor Volume (mm3)\"].mean().reset_index(name=\"Mean Tumor Volume\")\n",
    "Summary=pd.merge(Summary,Summary_Grp[\"Tumor Volume (mm3)\"].median().reset_index(name=\"Median Tumor Volume\"),on=\"Drug Regimen\",how=\"left\")\n",
    "Summary=pd.merge(Summary,Summary_Grp[\"Tumor Volume (mm3)\"].var().reset_index(name=\"Tumor Volume Variance\"),on=\"Drug Regimen\",how=\"left\")\n",
    "Summary=pd.merge(Summary,Summary_Grp[\"Tumor Volume (mm3)\"].std().reset_index(name=\"Tumor Volume Std. Deviation\"),on=\"Drug Regimen\",how=\"left\")\n",
    "Summary=pd.merge(Summary,Summary_Grp[\"Tumor Volume (mm3)\"].sem().reset_index(name=\"Tumor Volume SEM\"),on=\"Drug Regimen\",how=\"left\")\n",
    "\n",
    "Summary\n",
    "\n"
   ]
  },
  {
   "cell_type": "code",
   "execution_count": null,
   "metadata": {},
   "outputs": [],
   "source": [
    "# Generate a summary statistics table of mean, median, variance, standard deviation, and SEM of the tumor volume for each regimen\n",
    "Summary2=combined_data_clean[[\"Drug Regimen\",\"Tumor Volume (mm3)\"]].groupby([\"Drug Regimen\"]).agg(['mean','median','var','std','sem'])\n",
    "# Using the aggregation method, produce the same summary statistics in a single line.\n",
    "Summary2"
   ]
  },
  {
   "cell_type": "markdown",
   "metadata": {},
   "source": [
    "## Bar and Pie Charts"
   ]
  },
  {
   "cell_type": "code",
   "execution_count": null,
   "metadata": {},
   "outputs": [],
   "source": [
    "# Generate a bar plot showing the total number of timepoints for all mice tested for each drug regimen using Pandas.\n",
    "\n",
    "count_mice_tested = combined_data_clean.groupby([\"Drug Regimen\"]).count()[\"Mouse ID\"] \n",
    "plot_pandas = count_mice_tested.plot.bar(figsize=(15,10), color='b',fontsize = 12)\n",
    "count_mice_tested\n",
    "plt.xlabel(\"Drug Regimen\",fontsize = 12)\n",
    "plt.ylabel(\"Number of Mice\",fontsize = 12)\n",
    "\n",
    "plt.savefig(\"../Images/Pan_mice_tested_per_regimen.png\", bbox_inches = \"tight\")\n",
    "plt.tight_layout()\n",
    "plt.show()\n",
    "\n",
    "count_mice_tested"
   ]
  },
  {
   "cell_type": "code",
   "execution_count": null,
   "metadata": {},
   "outputs": [],
   "source": [
    "# Generate a bar plot showing the total number of timepoints for all mice tested for each drug regimen using pyplot.\n",
    "mice_tested_list =(combined_data_clean.groupby([\"Drug Regimen\"])[\"Mouse ID\"].count()).tolist()\n",
    "mice_tested_list\n",
    "\n",
    "x_axis = np.arange(len(count_mice_per_tret))\n",
    "fig1, ax1 = plt.subplots(figsize=(15, 10))\n",
    "plt.bar(x_axis, mice_tested_list, color='b', alpha=0.8, align='center')\n",
    "\n",
    "tick_locations = [value for value in x_axis]\n",
    "\n",
    "plt.xticks(tick_locations, ['Capomulin', 'Ceftamin', 'Infubinol', 'Ketapril', 'Naftisol', 'Placebo','Propriva', 'Ramicane', 'Stelasyn', 'Zoniferol'],  rotation='vertical')\n",
    "\n",
    "plt.xlim(-0.75, len(x_axis)-0.25)\n",
    "\n",
    "plt.ylim(0, max(mice_tested_list)+10)\n",
    "\n",
    "plt.xlabel(\"Drug Regimen\",fontsize = 12)\n",
    "plt.ylabel(\"Number of Mice Tested\",fontsize = 12)\n",
    "\n",
    "plt.savefig(\"../Images/mat_mice_per_treat.png\", bbox_inches = \"tight\")\n"
   ]
  },
  {
   "cell_type": "code",
   "execution_count": null,
   "metadata": {},
   "outputs": [],
   "source": [
    "# Generate a pie plot showing the distribution of female versus male mice using Pandas\n",
    "combined_data_clean.groupby([\"Sex\"])[\"Mouse ID\"].count().plot.pie(title=\"Distribution of Gender in Test\",label=\"\",autopct=\"%1.1f%%\")\n"
   ]
  },
  {
   "cell_type": "code",
   "execution_count": null,
   "metadata": {},
   "outputs": [],
   "source": [
    "# Generate a pie plot showing the distribution of female versus male mice using pyplot\n",
    "piePlot=combined_data_clean.groupby([\"Sex\"])[\"Mouse ID\"].count().reset_index(name=\"Count of Mouse ID\")\n",
    "labs = piePlot[\"Sex\"]\n",
    "Count = piePlot[\"Count of Mouse ID\"]\n",
    "colors = [\"green\",\"blue\"]\n",
    "plt.pie(Count, labels=labs, colors=colors,autopct=\"%1.1f%%\")\n",
    "plt.title(\"Distribution of Gender in Test\")\n",
    "\n",
    "plt.show()\n"
   ]
  },
  {
   "cell_type": "markdown",
   "metadata": {},
   "source": [
    "## Quartiles, Outliers and Boxplots"
   ]
  },
  {
   "cell_type": "code",
   "execution_count": null,
   "metadata": {},
   "outputs": [],
   "source": [
    "# Calculate the final tumor volume of each mouse across four of the treatment regimens:  \n",
    "# Capomulin, Ramicane, Infubinol, and Ceftamin\n",
    "Top4=combined_data_clean.loc[(combined_data_clean[\"Drug Regimen\"]==\"Capomulin\")|(combined_data_clean[\"Drug Regimen\"]==\"Ramicane\")|(combined_data_clean[\"Drug Regimen\"]==\"Infubinol\")|(combined_data_clean[\"Drug Regimen\"]==\"Ceftamin\") ,:]\n",
    "# Start by getting the last (greatest) timepoint for each mouse\n",
    "Top4=Top4.groupby([\"Drug Regimen\",\"Mouse ID\"])[\"Timepoint\"].max().reset_index()\n",
    "# Merge this group df with the original dataframe to get the tumor volume at the last timepoint\n",
    "Top4=pd.merge(Top4,combined_data_clean[[\"Mouse ID\",\"Timepoint\",\"Tumor Volume (mm3)\"]],on=[\"Mouse ID\",\"Timepoint\"],how=\"left\")\n",
    "Top4\n"
   ]
  },
  {
   "cell_type": "code",
   "execution_count": null,
   "metadata": {},
   "outputs": [],
   "source": [
    "# Put treatments into a list for for loop (and later for plot labels)\n",
    "Treatments=[\"Capomulin\",\"Ramicane\",\"Infubinol\",\"Ceftamin\"]\n",
    "\n",
    "# Create empty list to fill with tumor vol data (for plotting)\n",
    "Tumors=[[] for i in range(4)]\n",
    "for i in range(100):\n",
    "    DR=Top4.iloc[i,:][\"Drug Regimen\"]\n",
    "    Tum=Top4.iloc[i,:][\"Tumor Volume (mm3)\"]\n",
    "    for j in range(4):\n",
    "        if DR==Treatments[j]:\n",
    "            Tumors[j].append(Tum)\n",
    "            continue\n",
    "\n",
    "# Calculate the IQR and quantitatively determine if there are any potential outliers. \n",
    "quartiles=[[] for i in range(4)]\n",
    "lowerq=[[] for i in range(4)]\n",
    "upperq=[[] for i in range(4)]\n",
    "iqr=[[] for i in range(4)]\n",
    "lower_bound=[[] for i in range(4)]\n",
    "upper_bound=[[] for i in range(4)]\n",
    "potential_outliers=[[] for i in range(4)]\n",
    "\n",
    "for Num,Treatment in enumerate(Treatments):\n",
    "    quartiles[Num] = Top4.loc[Top4[\"Drug Regimen\"]==Treatment,:][\"Tumor Volume (mm3)\"].quantile([.25,.5,.75])\n",
    "    lowerq[Num] = quartiles[Num][0.25]\n",
    "    upperq[Num] = quartiles[Num][0.75]\n",
    "    iqr[Num] = upperq[Num]-lowerq[Num]\n",
    "\n",
    "    print(f\"The lower quartile of {Treatment} tumor volume is: {lowerq[Num]}\")\n",
    "    print(f\"The upper quartile of {Treatment} tumor volume is: {upperq[Num]}\")\n",
    "    print(f\"The interquartile range of {Treatment} tumor volume is: {iqr[Num]}\")\n",
    "    print(f\"The the median of {Treatment} tumor volume is: {quartiles[Num][0.5]} \")\n",
    "\n",
    "    lower_bound[Num] = lowerq[Num] - (1.5*iqr[Num])\n",
    "    upper_bound[Num] = upperq[Num] + (1.5*iqr[Num])\n",
    "    print(f\"Values below {lower_bound[Num]} could be outliers.\")\n",
    "    print(f\"Values above {upper_bound[Num]} could be outliers.\")\n",
    "\n",
    "    # Print Potencial outliers\n",
    "    # Locate the rows which contain mice on each drug and get the tumor volumes\n",
    "    # add subset \n",
    "    # Determine outliers using upper and lower bounds\n",
    "    \n",
    "    for Tumor in Tumors[Num]:\n",
    "        if Tumor>upper_bound[Num] or Tumor < lower_bound[Num]:\n",
    "            potential_outliers[Num].append(Tumor)\n",
    "    if len(potential_outliers[Num])>0:\n",
    "        print(f\"The the potential outliers for {Treatment} are: {potential_outliers[Num]}\\n\")\n",
    "    else:\n",
    "        print(f\"There are no potential outliers for {Treatment}.\\n\")\n",
    "\n",
    "    "
   ]
  },
  {
   "cell_type": "code",
   "execution_count": null,
   "metadata": {},
   "outputs": [],
   "source": [
    "# Generate a box plot that shows the distrubution of the tumor volume for each treatment group.\n",
    "\n",
    "fig, (ax1, ax2, ax3, ax4) = plt.subplots(ncols=4,sharey=True,figsize=(10,5))\n",
    "fig.suptitle(\"Final Tumor Volumes by Treatment\", fontsize=16, fontweight=\"bold\")\n",
    "\n",
    "ax1.set_ylabel('Final Tumor Volume (mm3)')\n",
    "ax1.set_title(Treatments[0])\n",
    "ax1.boxplot(Tumors[0])\n",
    "ax1.set_xticks([])\n",
    "\n",
    "ax2.set_title(Treatments[1])\n",
    "ax2.boxplot(Tumors[1])\n",
    "ax2.set_xticks([])\n",
    "\n",
    "ax3.set_title(Treatments[2])\n",
    "ax3.boxplot(Tumors[2])\n",
    "ax3.set_xticks([])\n",
    "\n",
    "ax4.set_title(Treatments[3])\n",
    "ax4.boxplot(Tumors[3])\n",
    "ax4.set_xticks([])\n",
    "\n",
    "plt.show()"
   ]
  },
  {
   "cell_type": "markdown",
   "metadata": {},
   "source": [
    "## Line and Scatter Plots"
   ]
  },
  {
   "cell_type": "code",
   "execution_count": null,
   "metadata": {},
   "outputs": [],
   "source": [
    "# Generate a line plot of tumor volume vs. time point for a mouse treated with Capomulin\n",
    "Single_Mouse_Capomulin=combined_data_clean.loc[combined_data_clean[\"Mouse ID\"]=='l509',:]\n",
    "x_axis=Single_Mouse_Capomulin[\"Timepoint\"].count()\n",
    "plt.plot(Single_Mouse_Capomulin[\"Timepoint\"],Single_Mouse_Capomulin[\"Tumor Volume (mm3)\"],marker='s',color=\"b\")\n",
    "plt.title(\"Capomulin treatment of mouse l509\")\n",
    "plt.xlabel(\"Timepoint (days)\")\n",
    "plt.ylabel(\"Tumor Volume (mm3)\")\n",
    "plt.ylim(40,48)\n",
    "plt.show()\n"
   ]
  },
  {
   "cell_type": "code",
   "execution_count": null,
   "metadata": {},
   "outputs": [],
   "source": [
    "# Generate a scatter plot of average tumor volume vs. mouse weight for the Capomulin regimen\n",
    "Capomulin_df = combined_data_clean.loc[combined_data_clean[\"Drug Regimen\"] == \"Capomulin\",:]\n",
    "Capomulin_last = Capomulin_df.groupby('Mouse ID').max()['Timepoint']\n",
    "Capomulin_vol = pd.DataFrame(Capomulin_last)\n",
    "Capomulin_merge = pd.merge(Capomulin_vol, combined_data_clean, on=(\"Mouse ID\",\"Timepoint\"),how=\"left\")\n",
    "Capomulin_merge.head()\n",
    "\n",
    "fig1, ax1 = plt.subplots()\n",
    "avg_capm_vol =Capomulin_df.groupby(['Mouse ID']).mean()\n",
    "\n",
    "marker_size=15\n",
    "plt.scatter(avg_capm_vol['Weight (g)'],avg_capm_vol['Tumor Volume (mm3)'], color=\"blue\")\n",
    "plt.title('Mouse Weight Versus Average Tumor Volume')\n",
    "plt.xlabel('Weight (g)',fontsize =14)\n",
    "plt.ylabel('Averag Tumor Volume (mm3)')\n"
   ]
  },
  {
   "cell_type": "markdown",
   "metadata": {},
   "source": [
    "## Correlation and Regression"
   ]
  },
  {
   "cell_type": "code",
   "execution_count": null,
   "metadata": {},
   "outputs": [],
   "source": [
    "# Calculate the correlation coefficient and linear regression model for mouse weight and average tumor volume for the Capomulin regimen\n",
    "correlation = st.pearsonr(avg_capm_vol['Weight (g)'],avg_capm_vol['Tumor Volume (mm3)'])\n",
    "print(f\"The correlation between mouse weight and the average tumor volume is {round(correlation[0],2)}\")\n"
   ]
  },
  {
   "cell_type": "code",
   "execution_count": null,
   "metadata": {},
   "outputs": [],
   "source": [
    "(slope, intercept,rvalue, pvalue, stderr)= linregress(avg_capm_vol[\"Weight (g)\"],avg_capm_vol[\"Tumor Volume (mm3)\"])\n",
    "regress_values=avg_capm_vol[\"Weight (g)\"]* slope + intercept\n",
    "\n",
    "plt.scatter(avg_capm_vol[\"Weight (g)\"],avg_capm_vol[\"Tumor Volume (mm3)\"],color='b')\n",
    "plt.plot(avg_capm_vol[\"Weight (g)\"], regress_values, color='red')\n",
    "plt.xlabel(\"Weight (g)\")\n",
    "plt.ylabel(\"Average Tumor Volume (mm3)\")\n",
    "plt.show()"
   ]
  },
  {
   "cell_type": "code",
   "execution_count": null,
   "metadata": {},
   "outputs": [],
   "source": []
  }
 ],
 "metadata": {
  "anaconda-cloud": {},
  "kernelspec": {
   "display_name": "PythonData",
   "language": "python",
   "name": "pythondata"
  },
  "language_info": {
   "codemirror_mode": {
    "name": "ipython",
    "version": 3
   },
   "file_extension": ".py",
   "mimetype": "text/x-python",
   "name": "python",
   "nbconvert_exporter": "python",
   "pygments_lexer": "ipython3",
   "version": "3.7.7"
  }
 },
 "nbformat": 4,
 "nbformat_minor": 4
}
